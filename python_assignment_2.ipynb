{
 "cells": [
  {
   "cell_type": "markdown",
   "id": "178c554b",
   "metadata": {},
   "source": [
    "Q1. Create the below pattern using nested for loop in Python.\n",
    "\n",
    "```python\n",
    "*\n",
    "**\n",
    "***\n",
    "****\n",
    "*****\n",
    "****\n",
    "***\n",
    "**\n",
    "*\n",
    "```"
   ]
  },
  {
   "cell_type": "code",
   "execution_count": 1,
   "id": "f02a3703",
   "metadata": {},
   "outputs": [
    {
     "name": "stdout",
     "output_type": "stream",
     "text": [
      "*\r\n",
      "**\r\n",
      "***\r\n",
      "****\r\n",
      "*****\r\n",
      "****\r\n",
      "***\r\n",
      "**\r\n",
      "*\r\n",
      "\r\n"
     ]
    }
   ],
   "source": [
    "for i in range(0, 5, 1): # Incerasing Pattern\n",
    "    for j in range(0, i+1):\n",
    "        print(\"*\", end = \"\")\n",
    "    print(\"\\r\") # row end\n",
    "for i in range(5, 0, -1): # Decreasing Pattern\n",
    "    for j in range(0, i-1):\n",
    "        print(\"*\", end = \"\")\n",
    "    print(\"\\r\") # row end "
   ]
  },
  {
   "cell_type": "markdown",
   "id": "4974bab8",
   "metadata": {},
   "source": [
    "Q2. Write a Python program to reverse a word after accepting the input from the user.\n",
    "\n",
    "Example:\n",
    "\n",
    "Input word: ineuron\n",
    "\n",
    "Output: norueni"
   ]
  },
  {
   "cell_type": "code",
   "execution_count": 2,
   "id": "942537c9",
   "metadata": {},
   "outputs": [
    {
     "name": "stdout",
     "output_type": "stream",
     "text": [
      "Enter a Word :ineuron\n",
      "Reverse of ineuron is : norueni\n"
     ]
    }
   ],
   "source": [
    "# Solution Type - 1\n",
    "string = \"\"\n",
    "word = input(\"Enter a Word :\")\n",
    "for i in range(0, len(word)):\n",
    "    string = word[i] + string\n",
    "print(\"Reverse of {} is : {}\".format(word, string))"
   ]
  },
  {
   "cell_type": "code",
   "execution_count": 3,
   "id": "cc1377ab",
   "metadata": {},
   "outputs": [
    {
     "name": "stdout",
     "output_type": "stream",
     "text": [
      "Enter a Word :ineuron\n",
      "Reverse of ineuron is : norueni\n"
     ]
    }
   ],
   "source": [
    "# Solution Type - 2\n",
    "word = input(\"Enter a Word :\")\n",
    "print(\"Reverse of {} is : {}\".format(word, word[::-1]))"
   ]
  }
 ],
 "metadata": {
  "kernelspec": {
   "display_name": "Python 3 (ipykernel)",
   "language": "python",
   "name": "python3"
  },
  "language_info": {
   "codemirror_mode": {
    "name": "ipython",
    "version": 3
   },
   "file_extension": ".py",
   "mimetype": "text/x-python",
   "name": "python",
   "nbconvert_exporter": "python",
   "pygments_lexer": "ipython3",
   "version": "3.8.8"
  }
 },
 "nbformat": 4,
 "nbformat_minor": 5
}
